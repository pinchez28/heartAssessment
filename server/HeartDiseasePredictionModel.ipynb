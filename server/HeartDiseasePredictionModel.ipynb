{
 "cells": [
  {
   "cell_type": "markdown",
   "id": "fb6c5930-44bc-447a-b488-d0ed07580c49",
   "metadata": {},
   "source": [
    "# Teach a Machine Predict Heart Disease using Data"
   ]
  },
  {
   "cell_type": "markdown",
   "id": "a5f09b9c-5b99-42d4-9c70-26d25eaf94bf",
   "metadata": {},
   "source": [
    "### Load Dataset"
   ]
  },
  {
   "cell_type": "code",
   "execution_count": null,
   "id": "31563632-6805-4b57-b176-4162b59f983c",
   "metadata": {},
   "outputs": [],
   "source": [
    "import pandas as pd\n",
    "\n",
    "dataset = pd.read_csv(\"datasets/heart.csv\")\n",
    "data = dataset.copy()"
   ]
  },
  {
   "cell_type": "markdown",
   "id": "14c75968-376d-47ed-8036-fc2462ab5a30",
   "metadata": {},
   "source": [
    "### Seperate input Features and output(labels)"
   ]
  },
  {
   "cell_type": "code",
   "execution_count": null,
   "id": "a55438f7-8743-4a2f-8ff3-00d7d5c6c0dd",
   "metadata": {},
   "outputs": [],
   "source": [
    "X = data.drop([\"HeartDisease\"], axis=1)\n",
    "y = data[\"HeartDisease\"]\n",
    "\n",
    "# Define the Preprocessing\n",
    "numerical = [\"Age\",\"RestingBP\",\"Cholesterol\",\"RestingBP\",\"MaxHR\",\"Oldpeak\"]\n",
    "categorical = [\"Sex\",\"ChestPainType\",\"RestingECG\",\"ExerciseAngina\",\"ST_Slope\",\"FastingBS\"]\n",
    "\n",
    "from sklearn.compose import ColumnTransformer\n",
    "from sklearn.preprocessing import StandardScaler, OneHotEncoder\n",
    "\n",
    "preprocessor = ColumnTransformer([\n",
    "    (\"num\", StandardScaler(), numerical),\n",
    "    (\"cat\", OneHotEncoder(handle_unknown=\"ignore\"), categorical)\n",
    "])"
   ]
  },
  {
   "cell_type": "markdown",
   "id": "2cb47515-683a-4573-acfd-7d2a15334e20",
   "metadata": {},
   "source": [
    "### Split the dataset into Training and Validation sets"
   ]
  },
  {
   "cell_type": "code",
   "execution_count": null,
   "id": "3afbf821-b70a-4535-b665-a489c1a78954",
   "metadata": {},
   "outputs": [],
   "source": [
    "from sklearn.model_selection import train_test_split\n",
    "\n",
    "X_train,X_test,y_train,y_test = train_test_split(\n",
    "    X,y,test_size=0.2,stratify=y,random_state=42\n",
    ")"
   ]
  },
  {
   "cell_type": "markdown",
   "id": "db66dd79-e889-4c46-a5f0-733cc7642f22",
   "metadata": {},
   "source": [
    "### Preprocess data (Scale numbers and encode Categorical data)"
   ]
  },
  {
   "cell_type": "code",
   "execution_count": null,
   "id": "62268db2-4c87-4bbd-bf0f-f363ef858fc9",
   "metadata": {},
   "outputs": [],
   "source": [
    "X_train_prep = preprocessor.fit_transform(X_train)\n",
    "X_test_prep = preprocessor.fit_transform(X_test)"
   ]
  },
  {
   "cell_type": "markdown",
   "id": "54c0ce81-df0c-4217-bb7f-b48f6083ab11",
   "metadata": {},
   "source": [
    "### Build The Neural Network"
   ]
  },
  {
   "cell_type": "code",
   "execution_count": null,
   "id": "3f6538e0-ef77-4ec7-b41a-9d9c80b22887",
   "metadata": {},
   "outputs": [],
   "source": [
    "# Build Model With Hyperparameters\n",
    "\n",
    "from tensorflow.keras.models import Sequential\n",
    "from tensorflow.keras.layers import Dense,Dropout\n",
    "from tensorflow.keras.optimizers import Adam\n",
    "\n",
    "def buid_model(hp):\n",
    "    model = Sequencial()\n",
    "    model = model.add(Dense(\n",
    "        hp.Int(\"units_1\", min_value=32,max_value=128,step=16),\n",
    "        activation=\"relu\",\n",
    "        input_shape=(X_test_prep.shape[1],)\n",
    "    ))\n",
    "    model.add(Dropout(hp.Float(\"dropout_1\", min_value=0.2,max_value=0.5, step=0.1)))\n",
    "\n",
    "    model.add(Dense(\n",
    "        hp.Int(\"units_2\", min_value=16, max_value=64,step=16),\n",
    "        activation=\"relu\"\n",
    "    ))\n",
    "\n",
    "    model.add(Dropout(hp.Float(\"dropout_2\", min_value=0.2, max_value=0.5, step=0.1)))\n",
    "    model.add(Dense(1, activation=\"sigmoid\"))\n",
    "    \n",
    "    model.compile(\n",
    "        optimizer = Adam(hp.Float(\"lr\", min_value=le-2,sampling=\"log\")),\n",
    "        loss = \"binary_crossentropy\",\n",
    "        matrics = [\"accuracy\"]\n",
    "    )\n",
    "\n",
    "    return model\n",
    "\n",
    "# Search Tuner\n",
    "import keras_tuner as kt\n",
    "\n",
    "tuner = kt.RandomSearch(\n",
    "    build_model,\n",
    "    objective=\"val_accuracy\",\n",
    "    max_trials=10,\n",
    "    executions_per_trial=1,\n",
    "    overwrite=True,\n",
    "    directory=\"tuner_logs\",\n",
    "    project_name=\"heart_disease_nn\"\n",
    ")\n",
    "\n",
    "from tensorflow.keras.callbacks import EarlyStopping\n",
    "\n",
    "early_stop = EarlyStopping(monitor=\"val_loss\", patience=10, restore_best_weights=True)\n",
    "\n",
    "# Start tuning\n",
    "tuner.search(\n",
    "    X_train_prep, y_train,\n",
    "    validation_split=0.2,\n",
    "    epochs=100,\n",
    "    batch_size=32,\n",
    "    callbacks=[early_stop],\n",
    "    verbose=1\n",
    ")\n",
    "\n",
    "# Get best model\n",
    "best_model = tuner.get_best_models(num_models=1)[0]\n",
    "\n",
    "# Evaluate\n",
    "loss, accuracy = best_model.evaluate(X_test_prep, y_test)\n",
    "y_pred = (best_model.predict(X_test_prep) > 0.5).astype(int)\n",
    "\n",
    "print(\"\\n Best Accuracy:\", round(accuracy * 100, 2), \"%\")\n",
    "print(\"\\n Classification Report:\\n\", classification_report(y_test, y_pred))\n",
    "print(\"Confusion Matrix:\\n\", confusion_matrix(y_test, y_pred))\n",
    "\n",
    "# Save model and preprocessor\n",
    "best_model.save(\"nn_model.keras\")\n",
    "joblib.dump(preprocessor, \"preprocessor.pkl\")\n",
    "\n",
    "print(\"\\nSaved best model as 'nn_model.keras' and preprocessor as 'preprocessor.pkl'\")\n",
    "    "
   ]
  }
 ],
 "metadata": {
  "kernelspec": {
   "display_name": "Python [conda env:base] *",
   "language": "python",
   "name": "conda-base-py"
  },
  "language_info": {
   "codemirror_mode": {
    "name": "ipython",
    "version": 3
   },
   "file_extension": ".py",
   "mimetype": "text/x-python",
   "name": "python",
   "nbconvert_exporter": "python",
   "pygments_lexer": "ipython3",
   "version": "3.12.11"
  }
 },
 "nbformat": 4,
 "nbformat_minor": 5
}
