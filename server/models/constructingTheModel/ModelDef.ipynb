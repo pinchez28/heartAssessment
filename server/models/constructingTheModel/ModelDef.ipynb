{
 "cells": [
  {
   "cell_type": "markdown",
   "id": "6b8de673-b26d-44dd-8e88-84b22f4896de",
   "metadata": {},
   "source": [
    "# Neural Network Algorithm (The Smarter Algorithm)"
   ]
  },
  {
   "cell_type": "markdown",
   "id": "1217c3cc-e351-4e34-a7fa-47cbc01a30d6",
   "metadata": {},
   "source": [
    "### Load The Dataset"
   ]
  },
  {
   "cell_type": "code",
   "execution_count": 4,
   "id": "9e8a967f-dac2-43a6-8d81-9725bf6916ef",
   "metadata": {},
   "outputs": [],
   "source": [
    "import pandas as pd\n",
    "\n",
    "dataset = pd.read_csv(\"datasets/heartDataset.csv\")\n",
    "data = dataset.copy()"
   ]
  },
  {
   "cell_type": "markdown",
   "id": "a2ccf100-8a47-42f1-9797-78010411d870",
   "metadata": {},
   "source": [
    "### Seperate Inputs Features (X) and Target Column(y)"
   ]
  },
  {
   "cell_type": "code",
   "execution_count": 7,
   "id": "69c34b66-fa22-40ec-8c17-adc70f6f1399",
   "metadata": {},
   "outputs": [],
   "source": [
    "X = data.drop(['HeartDisease'], axis=1)\n",
    "y = data['HeartDisease']"
   ]
  },
  {
   "cell_type": "markdown",
   "id": "6c358172-50ff-4264-b192-77db315625a5",
   "metadata": {},
   "source": [
    "### Define the Preprocessing"
   ]
  },
  {
   "cell_type": "code",
   "execution_count": 8,
   "id": "8dcf1cd9-5c2a-40af-9605-7f867470ff17",
   "metadata": {},
   "outputs": [],
   "source": [
    "numerical = [\"Age\",\"RestingBP\",\"Cholesterol\",\"RestingBP\",\"MaxHR\",\"Oldpeak\"]\n",
    "categorical = [\"Sex\",\"ChestPainType\",\"RestingECG\",\"ExerciseAngina\",\"ST_Slope\",\"FastingBS\"]"
   ]
  }
 ],
 "metadata": {
  "kernelspec": {
   "display_name": "Python [conda env:base] *",
   "language": "python",
   "name": "conda-base-py"
  },
  "language_info": {
   "codemirror_mode": {
    "name": "ipython",
    "version": 3
   },
   "file_extension": ".py",
   "mimetype": "text/x-python",
   "name": "python",
   "nbconvert_exporter": "python",
   "pygments_lexer": "ipython3",
   "version": "3.12.11"
  }
 },
 "nbformat": 4,
 "nbformat_minor": 5
}
